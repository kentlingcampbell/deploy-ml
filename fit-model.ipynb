{
 "cells": [
  {
   "cell_type": "code",
   "execution_count": 30,
   "id": "bearing-spank",
   "metadata": {},
   "outputs": [],
   "source": [
    "import pandas as pd\n",
    "import sklearn as sk\n",
    "from sklearn.datasets import fetch_openml\n",
    "from sklearn.pipeline import Pipeline\n",
    "from sklearn.tree import DecisionTreeClassifier\n",
    "from sklearn.preprocessing import StandardScaler\n",
    "from sklearn.model_selection import train_test_split\n",
    "import pickle"
   ]
  },
  {
   "cell_type": "code",
   "execution_count": 26,
   "id": "nonprofit-holly",
   "metadata": {},
   "outputs": [],
   "source": [
    "#X, y = fetch_openml('creditcard',as_frame=True, return_X_y=True)\n",
    "\n",
    "pipe = Pipeline([('scalar', StandardScaler()), ('clf', DecisionTreeClassifier())])"
   ]
  },
  {
   "cell_type": "code",
   "execution_count": 27,
   "id": "intellectual-stevens",
   "metadata": {},
   "outputs": [],
   "source": [
    "X_train, X_test, y_train, y_test =train_test_split(X, y, random_state=0)"
   ]
  },
  {
   "cell_type": "code",
   "execution_count": 28,
   "id": "rising-fitness",
   "metadata": {},
   "outputs": [
    {
     "data": {
      "text/plain": [
       "Pipeline(steps=[('scalar', StandardScaler()),\n",
       "                ('clf', DecisionTreeClassifier())])"
      ]
     },
     "execution_count": 28,
     "metadata": {},
     "output_type": "execute_result"
    }
   ],
   "source": [
    "pipe.fit(X_train, y_train)"
   ]
  },
  {
   "cell_type": "code",
   "execution_count": 32,
   "id": "elect-convergence",
   "metadata": {},
   "outputs": [],
   "source": [
    "with open('clf.pickle', 'wb') as f:\n",
    "    # Pickle the 'data' dictionary using the highest protocol available.\n",
    "    pickle.dump(pipe, f, pickle.HIGHEST_PROTOCOL)"
   ]
  },
  {
   "cell_type": "code",
   "execution_count": 33,
   "id": "indie-casino",
   "metadata": {},
   "outputs": [
    {
     "data": {
      "text/plain": [
       "[-0.323333572349207,\n",
       " 1.05745524547602,\n",
       " -0.0483411518056082,\n",
       " -0.607204308469926,\n",
       " 1.25982114985563,\n",
       " -0.0917607168463734,\n",
       " 1.15910149881154,\n",
       " -0.124334605793243,\n",
       " -0.174639536425237,\n",
       " -1.64440064518339,\n",
       " -1.11886302116203,\n",
       " 0.202647309859633,\n",
       " 1.14596494837297,\n",
       " -1.80235955648842,\n",
       " -0.247177931927312,\n",
       " -0.0609453515056588,\n",
       " 0.846605737903167,\n",
       " 0.379454386602278,\n",
       " 0.847262244774974,\n",
       " 0.186409421250743,\n",
       " -0.207098266945484,\n",
       " -0.433890272356151,\n",
       " -0.261613282942462,\n",
       " -0.0466506062633096,\n",
       " 0.211512300497807,\n",
       " 0.00829721213659597,\n",
       " 0.108494430085674,\n",
       " 0.161139166913704,\n",
       " 40.0]"
      ]
     },
     "execution_count": 33,
     "metadata": {},
     "output_type": "execute_result"
    }
   ],
   "source": [
    "X_test.iloc[0].to_list()"
   ]
  },
  {
   "cell_type": "code",
   "execution_count": null,
   "id": "concerned-benefit",
   "metadata": {},
   "outputs": [],
   "source": []
  }
 ],
 "metadata": {
  "kernelspec": {
   "display_name": "Python 3",
   "language": "python",
   "name": "python3"
  },
  "language_info": {
   "codemirror_mode": {
    "name": "ipython",
    "version": 3
   },
   "file_extension": ".py",
   "mimetype": "text/x-python",
   "name": "python",
   "nbconvert_exporter": "python",
   "pygments_lexer": "ipython3",
   "version": "3.9.2"
  }
 },
 "nbformat": 4,
 "nbformat_minor": 5
}
